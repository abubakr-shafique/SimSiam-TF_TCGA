{
 "cells": [
  {
   "cell_type": "markdown",
   "metadata": {
    "colab_type": "text",
    "id": "view-in-github"
   },
   "source": [
    "<a href=\"https://colab.research.google.com/github/sayakpaul/SimSiam-TF/blob/main/SimSiam_Evaluation.ipynb\" target=\"_parent\"><img src=\"https://colab.research.google.com/assets/colab-badge.svg\" alt=\"Open In Colab\"/></a>"
   ]
  },
  {
   "cell_type": "markdown",
   "metadata": {
    "id": "spvkjI26p5hP"
   },
   "source": [
    "This notebook evaluates the frozen features of a ResNet50 pre-trained (50 epochs of pre-training) using the [SimSiam method](https://arxiv.org/abs/2011.10566). You can refer to the [pre-training notebook here](https://github.com/sayakpaul/SimSiam-TF/blob/main/SimSiam_Pre_training.ipynb). Following evaluation methods have been used - \n",
    "\n",
    "* Linear evaluation of the frozen features\n",
    "\n",
    "*Please note that to keep this minimal I did not follow the original hyperparameter configurations rigorously.*  "
   ]
  },
  {
   "cell_type": "markdown",
   "metadata": {
    "id": "bHxqoL8criDm"
   },
   "source": [
    "## Initial setup"
   ]
  },
  {
   "cell_type": "code",
   "execution_count": 1,
   "metadata": {
    "colab": {
     "base_uri": "https://localhost:8080/"
    },
    "id": "jjv_xR31qway",
    "outputId": "0540994e-cb2e-4e81-9b55-3c44c75bd382"
   },
   "outputs": [
    {
     "name": "stdout",
     "output_type": "stream",
     "text": [
      "Sun Dec  5 20:34:44 2021       \n",
      "+-----------------------------------------------------------------------------+\n",
      "| NVIDIA-SMI 460.89       Driver Version: 460.89       CUDA Version: 11.2     |\n",
      "|-------------------------------+----------------------+----------------------+\n",
      "| GPU  Name            TCC/WDDM | Bus-Id        Disp.A | Volatile Uncorr. ECC |\n",
      "| Fan  Temp  Perf  Pwr:Usage/Cap|         Memory-Usage | GPU-Util  Compute M. |\n",
      "|                               |                      |               MIG M. |\n",
      "|===============================+======================+======================|\n",
      "|   0  GeForce RTX 208... WDDM  | 00000000:01:00.0 Off |                  N/A |\n",
      "| N/A   40C    P8     2W /  N/A |    182MiB /  8192MiB |      0%      Default |\n",
      "|                               |                      |                  N/A |\n",
      "+-------------------------------+----------------------+----------------------+\n",
      "                                                                               \n",
      "+-----------------------------------------------------------------------------+\n",
      "| Processes:                                                                  |\n",
      "|  GPU   GI   CI        PID   Type   Process name                  GPU Memory |\n",
      "|        ID   ID                                                   Usage      |\n",
      "|=============================================================================|\n",
      "|    0   N/A  N/A     14624    C+G   ...rvice\\ePowerButton_NB.exe    N/A      |\n",
      "+-----------------------------------------------------------------------------+\n"
     ]
    }
   ],
   "source": [
    "!nvidia-smi"
   ]
  },
  {
   "cell_type": "code",
   "execution_count": 2,
   "metadata": {
    "id": "gFTq1rLLpxm9"
   },
   "outputs": [
    {
     "name": "stdout",
     "output_type": "stream",
     "text": [
      "2.7.0\n"
     ]
    }
   ],
   "source": [
    "import tensorflow as tf\n",
    "print(tf.__version__)"
   ]
  },
  {
   "cell_type": "code",
   "execution_count": 3,
   "metadata": {
    "id": "eabbJmtEqxZx"
   },
   "outputs": [],
   "source": [
    "import tensorflow_datasets as tfds\n",
    "tfds.disable_progress_bar()\n",
    "\n",
    "import matplotlib.pyplot as plt\n",
    "import numpy as np\n",
    "import random\n",
    "import time\n",
    "import os\n",
    "\n",
    "tf.random.set_seed(666)\n",
    "np.random.seed(666)"
   ]
  },
  {
   "cell_type": "code",
   "execution_count": 5,
   "metadata": {
    "id": "fWxQyUYJrAoz"
   },
   "outputs": [],
   "source": [
    "# Retrieve the weights (50 epochs pre-training) of the projection head\n",
    "!wget -q https://github.com/sayakpaul/SimSiam-TF/releases/download/v1.0.0/projection.h5"
   ]
  },
  {
   "cell_type": "markdown",
   "metadata": {
    "id": "9pVwjqIDrbNR"
   },
   "source": [
    "## Dataset collection & preparation\n",
    "\n",
    "The following code is referred from [here](https://github.com/ayulockin/SwAV-TF/blob/master/linear_evaluation/Linear_Evaluation_10_Epochs.ipynb). "
   ]
  },
  {
   "cell_type": "code",
   "execution_count": 6,
   "metadata": {
    "colab": {
     "base_uri": "https://localhost:8080/"
    },
    "id": "mqcYr9UMrNtt",
    "outputId": "c286bf12-4f9b-43ef-d957-436831406f66"
   },
   "outputs": [],
   "source": [
    "# Gather Flowers dataset\n",
    "train_ds, validation_ds = tfds.load(\n",
    "    \"tf_flowers\",\n",
    "    split=[\"train[:85%]\", \"train[85%:]\"],\n",
    "    as_supervised=True\n",
    ")\n",
    "\n",
    "AUTO = tf.data.experimental.AUTOTUNE\n",
    "BATCH_SIZE = 64\n",
    "\n",
    "@tf.function\n",
    "def scale_resize_image(image, label):\n",
    "    image = tf.image.convert_image_dtype(image, tf.float32)\n",
    "    image = tf.image.resize(image, (224, 224)) # Resizing to highest resolution used while training swav\n",
    "    return (image, label)\n",
    "\n",
    "training_ds = (\n",
    "    train_ds\n",
    "    .map(scale_resize_image, num_parallel_calls=AUTO)\n",
    "    .batch(BATCH_SIZE)\n",
    "    .prefetch(AUTO)\n",
    ")\n",
    "\n",
    "validation_ds = (\n",
    "    validation_ds\n",
    "    .map(scale_resize_image, num_parallel_calls=AUTO)\n",
    "    .batch(BATCH_SIZE)\n",
    "    .prefetch(AUTO)\n",
    ")"
   ]
  },
  {
   "cell_type": "markdown",
   "metadata": {
    "id": "kvAOIxtruK4S"
   },
   "source": [
    "## Utility functions"
   ]
  },
  {
   "cell_type": "code",
   "execution_count": 7,
   "metadata": {
    "id": "g91yjhLhrH41"
   },
   "outputs": [],
   "source": [
    "def get_encoder():\n",
    "    base_model = tf.keras.applications.ResNet50(include_top=False,\n",
    "        weights=None, input_shape=(224, 224, 3))\n",
    "    base_model.trainable = True\n",
    "\n",
    "    inputs = tf.keras.layers.Input((224, 224, 3))\n",
    "    x = base_model(inputs, training=True)\n",
    "    x = tf.keras.layers.GlobalAveragePooling2D()(x)\n",
    "    x = tf.keras.layers.Dense(2048, activation='relu', use_bias=False)(x)\n",
    "    x = tf.keras.layers.BatchNormalization()(x)\n",
    "    z = tf.keras.layers.Dense(2048)(x)\n",
    "\n",
    "    f = tf.keras.Model(inputs, z)\n",
    "\n",
    "    return f"
   ]
  },
  {
   "cell_type": "code",
   "execution_count": 8,
   "metadata": {
    "colab": {
     "base_uri": "https://localhost:8080/"
    },
    "id": "hFTZNOpIsSLm",
    "outputId": "e0199d8d-502c-4b22-b155-8dfc3d9a65c1"
   },
   "outputs": [
    {
     "name": "stdout",
     "output_type": "stream",
     "text": [
      "Model: \"model\"\n",
      "_________________________________________________________________\n",
      " Layer (type)                Output Shape              Param #   \n",
      "=================================================================\n",
      " input_2 (InputLayer)        [(None, 224, 224, 3)]     0         \n",
      "                                                                 \n",
      " resnet50 (Functional)       (None, 7, 7, 2048)        23587712  \n",
      "                                                                 \n",
      " global_average_pooling2d (G  (None, 2048)             0         \n",
      " lobalAveragePooling2D)                                          \n",
      "                                                                 \n",
      " dense (Dense)               (None, 2048)              4194304   \n",
      "                                                                 \n",
      " batch_normalization (BatchN  (None, 2048)             8192      \n",
      " ormalization)                                                   \n",
      "                                                                 \n",
      " dense_1 (Dense)             (None, 2048)              4196352   \n",
      "                                                                 \n",
      "=================================================================\n",
      "Total params: 31,986,560\n",
      "Trainable params: 31,929,344\n",
      "Non-trainable params: 57,216\n",
      "_________________________________________________________________\n"
     ]
    }
   ],
   "source": [
    "get_encoder().summary()"
   ]
  },
  {
   "cell_type": "code",
   "execution_count": 9,
   "metadata": {
    "colab": {
     "base_uri": "https://localhost:8080/"
    },
    "id": "KhGhjwwzr5yi",
    "outputId": "ff44cd06-e17f-411a-a43f-fcba43f8f32f"
   },
   "outputs": [
    {
     "name": "stdout",
     "output_type": "stream",
     "text": [
      "Model: \"model_2\"\n",
      "_________________________________________________________________\n",
      " Layer (type)                Output Shape              Param #   \n",
      "=================================================================\n",
      " input_4 (InputLayer)        [(None, 224, 224, 3)]     0         \n",
      "                                                                 \n",
      " resnet50 (Functional)       (None, 7, 7, 2048)        23587712  \n",
      "                                                                 \n",
      " global_average_pooling2d_1   (None, 2048)             0         \n",
      " (GlobalAveragePooling2D)                                        \n",
      "                                                                 \n",
      "=================================================================\n",
      "Total params: 23,587,712\n",
      "Trainable params: 23,534,592\n",
      "Non-trainable params: 53,120\n",
      "_________________________________________________________________\n"
     ]
    }
   ],
   "source": [
    "# We now load up the pre-trained weights\n",
    "projection = get_encoder()\n",
    "projection.load_weights('projection.h5')\n",
    "\n",
    "# Create a sub-model for extracting features\n",
    "rn50 = tf.keras.Model(projection.input, projection.layers[2].output)\n",
    "rn50.summary()"
   ]
  },
  {
   "cell_type": "code",
   "execution_count": 10,
   "metadata": {
    "id": "fbSkm4NPsecS"
   },
   "outputs": [],
   "source": [
    "def get_linear_classifier(feature_backbone, trainable=False):\n",
    "    inputs = tf.keras.layers.Input(shape=(224, 224, 3))\n",
    "    \n",
    "    feature_backbone.trainable = trainable\n",
    "    x = feature_backbone(inputs, training=False)\n",
    "    outputs = tf.keras.layers.Dense(5, activation=\"softmax\", )(x)\n",
    "    linear_model = tf.keras.Model(inputs, outputs)\n",
    "\n",
    "    return linear_model"
   ]
  },
  {
   "cell_type": "code",
   "execution_count": 11,
   "metadata": {
    "colab": {
     "base_uri": "https://localhost:8080/"
    },
    "id": "DP-lW-7ms7Lj",
    "outputId": "34b76e31-6f6f-48af-ff03-3e15963d51fa"
   },
   "outputs": [
    {
     "name": "stdout",
     "output_type": "stream",
     "text": [
      "Model: \"model_3\"\n",
      "_________________________________________________________________\n",
      " Layer (type)                Output Shape              Param #   \n",
      "=================================================================\n",
      " input_5 (InputLayer)        [(None, 224, 224, 3)]     0         \n",
      "                                                                 \n",
      " model_2 (Functional)        (None, 2048)              23587712  \n",
      "                                                                 \n",
      " dense_4 (Dense)             (None, 5)                 10245     \n",
      "                                                                 \n",
      "=================================================================\n",
      "Total params: 23,597,957\n",
      "Trainable params: 10,245\n",
      "Non-trainable params: 23,587,712\n",
      "_________________________________________________________________\n"
     ]
    }
   ],
   "source": [
    "get_linear_classifier(rn50).summary()"
   ]
  },
  {
   "cell_type": "code",
   "execution_count": 12,
   "metadata": {
    "id": "drzXtvV2tdjW"
   },
   "outputs": [],
   "source": [
    "def plot_progress(hist):\n",
    "    plt.plot(hist.history[\"loss\"], label=\"train_loss\")\n",
    "    plt.plot(hist.history[\"val_loss\"], label=\"validation_loss\")\n",
    "    plt.plot(hist.history[\"accuracy\"], label=\"training_accuracy\")\n",
    "    plt.plot(hist.history[\"val_accuracy\"], label=\"validation_accuracy\")\n",
    "    plt.title(\"Training Progress\")\n",
    "    plt.ylabel(\"accuracy/loss\")\n",
    "    plt.xlabel(\"epoch\")\n",
    "    plt.legend(loc=\"upper left\")\n",
    "    plt.grid()\n",
    "    plt.show()"
   ]
  },
  {
   "cell_type": "markdown",
   "metadata": {
    "id": "TNAn38zSuSUV"
   },
   "source": [
    "## Linear evaluation"
   ]
  },
  {
   "cell_type": "code",
   "execution_count": 13,
   "metadata": {
    "id": "lBw85iBGs-Cm"
   },
   "outputs": [],
   "source": [
    "# Early Stopping to prevent overfitting\n",
    "early_stopper = tf.keras.callbacks.EarlyStopping(monitor=\"val_loss\", \n",
    "                                                 patience=5, verbose=2, \n",
    "                                                 restore_best_weights=True)"
   ]
  },
  {
   "cell_type": "code",
   "execution_count": 14,
   "metadata": {
    "colab": {
     "base_uri": "https://localhost:8080/",
     "height": 1000
    },
    "id": "BxH5ImyItN59",
    "outputId": "87b90427-fe76-472c-ac3a-f6778f7758ec"
   },
   "outputs": [
    {
     "name": "stdout",
     "output_type": "stream",
     "text": [
      "Epoch 1/100\n",
      "49/49 [==============================] - 17s 216ms/step - loss: 1.7460 - accuracy: 0.2958 - val_loss: 1.6271 - val_accuracy: 0.2709\n",
      "Epoch 2/100\n",
      "49/49 [==============================] - 8s 162ms/step - loss: 1.5285 - accuracy: 0.3372 - val_loss: 1.5551 - val_accuracy: 0.3018\n",
      "Epoch 3/100\n",
      "49/49 [==============================] - 8s 162ms/step - loss: 1.4987 - accuracy: 0.3593 - val_loss: 1.5205 - val_accuracy: 0.3382\n",
      "Epoch 4/100\n",
      "49/49 [==============================] - 8s 163ms/step - loss: 1.4730 - accuracy: 0.3795 - val_loss: 1.4995 - val_accuracy: 0.3491\n",
      "Epoch 5/100\n",
      "49/49 [==============================] - 8s 163ms/step - loss: 1.4478 - accuracy: 0.3920 - val_loss: 1.4868 - val_accuracy: 0.3491\n",
      "Epoch 6/100\n",
      "49/49 [==============================] - 8s 163ms/step - loss: 1.4246 - accuracy: 0.4019 - val_loss: 1.4766 - val_accuracy: 0.3473\n",
      "Epoch 7/100\n",
      "49/49 [==============================] - 8s 164ms/step - loss: 1.4033 - accuracy: 0.4167 - val_loss: 1.4671 - val_accuracy: 0.3545\n",
      "Epoch 8/100\n",
      "49/49 [==============================] - 8s 164ms/step - loss: 1.3838 - accuracy: 0.4288 - val_loss: 1.4584 - val_accuracy: 0.3618\n",
      "Epoch 9/100\n",
      "49/49 [==============================] - 8s 164ms/step - loss: 1.3659 - accuracy: 0.4407 - val_loss: 1.4503 - val_accuracy: 0.3655\n",
      "Epoch 10/100\n",
      "49/49 [==============================] - 8s 165ms/step - loss: 1.3495 - accuracy: 0.4506 - val_loss: 1.4430 - val_accuracy: 0.3709\n",
      "Epoch 11/100\n",
      "49/49 [==============================] - 8s 164ms/step - loss: 1.3344 - accuracy: 0.4593 - val_loss: 1.4362 - val_accuracy: 0.3764\n",
      "Epoch 12/100\n",
      "49/49 [==============================] - 8s 165ms/step - loss: 1.3204 - accuracy: 0.4644 - val_loss: 1.4301 - val_accuracy: 0.3891\n",
      "Epoch 13/100\n",
      "49/49 [==============================] - 8s 165ms/step - loss: 1.3075 - accuracy: 0.4708 - val_loss: 1.4245 - val_accuracy: 0.3964\n",
      "Epoch 14/100\n",
      "49/49 [==============================] - 8s 165ms/step - loss: 1.2956 - accuracy: 0.4740 - val_loss: 1.4196 - val_accuracy: 0.4000\n",
      "Epoch 15/100\n",
      "49/49 [==============================] - 8s 166ms/step - loss: 1.2846 - accuracy: 0.4798 - val_loss: 1.4154 - val_accuracy: 0.4036\n",
      "Epoch 16/100\n",
      "49/49 [==============================] - 8s 166ms/step - loss: 1.2746 - accuracy: 0.4849 - val_loss: 1.4120 - val_accuracy: 0.4073\n",
      "Epoch 17/100\n",
      "49/49 [==============================] - 8s 166ms/step - loss: 1.2655 - accuracy: 0.4894 - val_loss: 1.4092 - val_accuracy: 0.4109\n",
      "Epoch 18/100\n",
      "49/49 [==============================] - 8s 165ms/step - loss: 1.2575 - accuracy: 0.4901 - val_loss: 1.4069 - val_accuracy: 0.4145\n",
      "Epoch 19/100\n",
      "49/49 [==============================] - 8s 166ms/step - loss: 1.2506 - accuracy: 0.4965 - val_loss: 1.4042 - val_accuracy: 0.4127\n",
      "Epoch 20/100\n",
      "49/49 [==============================] - 8s 166ms/step - loss: 1.2450 - accuracy: 0.5032 - val_loss: 1.3996 - val_accuracy: 0.4236\n",
      "Epoch 21/100\n",
      "49/49 [==============================] - 8s 166ms/step - loss: 1.2403 - accuracy: 0.5038 - val_loss: 1.3917 - val_accuracy: 0.4236\n",
      "Epoch 22/100\n",
      "49/49 [==============================] - 8s 167ms/step - loss: 1.2354 - accuracy: 0.5077 - val_loss: 1.3813 - val_accuracy: 0.4236\n",
      "Epoch 23/100\n",
      "49/49 [==============================] - 8s 167ms/step - loss: 1.2284 - accuracy: 0.5090 - val_loss: 1.3722 - val_accuracy: 0.4236\n",
      "Epoch 24/100\n",
      "49/49 [==============================] - 8s 167ms/step - loss: 1.2196 - accuracy: 0.5144 - val_loss: 1.3655 - val_accuracy: 0.4236\n",
      "Epoch 25/100\n",
      "49/49 [==============================] - 8s 168ms/step - loss: 1.2101 - accuracy: 0.5192 - val_loss: 1.3603 - val_accuracy: 0.4327\n",
      "Epoch 26/100\n",
      "49/49 [==============================] - 8s 168ms/step - loss: 1.2009 - accuracy: 0.5250 - val_loss: 1.3560 - val_accuracy: 0.4400\n",
      "Epoch 27/100\n",
      "49/49 [==============================] - 8s 170ms/step - loss: 1.1921 - accuracy: 0.5279 - val_loss: 1.3522 - val_accuracy: 0.4436\n",
      "Epoch 28/100\n",
      "49/49 [==============================] - 8s 168ms/step - loss: 1.1839 - accuracy: 0.5295 - val_loss: 1.3488 - val_accuracy: 0.4545\n",
      "Epoch 29/100\n",
      "49/49 [==============================] - 8s 169ms/step - loss: 1.1761 - accuracy: 0.5337 - val_loss: 1.3457 - val_accuracy: 0.4545\n",
      "Epoch 30/100\n",
      "49/49 [==============================] - 8s 168ms/step - loss: 1.1686 - accuracy: 0.5378 - val_loss: 1.3429 - val_accuracy: 0.4564\n",
      "Epoch 31/100\n",
      "49/49 [==============================] - 8s 169ms/step - loss: 1.1614 - accuracy: 0.5413 - val_loss: 1.3403 - val_accuracy: 0.4600\n",
      "Epoch 32/100\n",
      "49/49 [==============================] - 8s 171ms/step - loss: 1.1545 - accuracy: 0.5478 - val_loss: 1.3379 - val_accuracy: 0.4636\n",
      "Epoch 33/100\n",
      "49/49 [==============================] - 8s 172ms/step - loss: 1.1478 - accuracy: 0.5506 - val_loss: 1.3357 - val_accuracy: 0.4691\n",
      "Epoch 34/100\n",
      "49/49 [==============================] - 8s 171ms/step - loss: 1.1414 - accuracy: 0.5548 - val_loss: 1.3336 - val_accuracy: 0.4673\n",
      "Epoch 35/100\n",
      "49/49 [==============================] - 8s 173ms/step - loss: 1.1351 - accuracy: 0.5571 - val_loss: 1.3317 - val_accuracy: 0.4655\n",
      "Epoch 36/100\n",
      "49/49 [==============================] - 8s 173ms/step - loss: 1.1290 - accuracy: 0.5603 - val_loss: 1.3299 - val_accuracy: 0.4655\n",
      "Epoch 37/100\n",
      "49/49 [==============================] - 8s 173ms/step - loss: 1.1230 - accuracy: 0.5631 - val_loss: 1.3282 - val_accuracy: 0.4673\n",
      "Epoch 38/100\n",
      "49/49 [==============================] - 9s 174ms/step - loss: 1.1172 - accuracy: 0.5667 - val_loss: 1.3265 - val_accuracy: 0.4655\n",
      "Epoch 39/100\n",
      "49/49 [==============================] - 9s 177ms/step - loss: 1.1115 - accuracy: 0.5692 - val_loss: 1.3250 - val_accuracy: 0.4655\n",
      "Epoch 40/100\n",
      "49/49 [==============================] - 9s 175ms/step - loss: 1.1060 - accuracy: 0.5731 - val_loss: 1.3236 - val_accuracy: 0.4655\n",
      "Epoch 41/100\n",
      "49/49 [==============================] - 9s 175ms/step - loss: 1.1005 - accuracy: 0.5776 - val_loss: 1.3222 - val_accuracy: 0.4636\n",
      "Epoch 42/100\n",
      "49/49 [==============================] - 9s 176ms/step - loss: 1.0952 - accuracy: 0.5817 - val_loss: 1.3209 - val_accuracy: 0.4618\n",
      "Epoch 43/100\n",
      "49/49 [==============================] - 9s 176ms/step - loss: 1.0900 - accuracy: 0.5856 - val_loss: 1.3197 - val_accuracy: 0.4600\n",
      "Epoch 44/100\n",
      "49/49 [==============================] - 9s 176ms/step - loss: 1.0849 - accuracy: 0.5885 - val_loss: 1.3185 - val_accuracy: 0.4582\n",
      "Epoch 45/100\n",
      "49/49 [==============================] - 9s 178ms/step - loss: 1.0798 - accuracy: 0.5901 - val_loss: 1.3174 - val_accuracy: 0.4564\n",
      "Epoch 46/100\n",
      "49/49 [==============================] - 9s 184ms/step - loss: 1.0749 - accuracy: 0.5936 - val_loss: 1.3163 - val_accuracy: 0.4527\n",
      "Epoch 47/100\n",
      "49/49 [==============================] - 9s 179ms/step - loss: 1.0700 - accuracy: 0.5968 - val_loss: 1.3152 - val_accuracy: 0.4527\n",
      "Epoch 48/100\n",
      "49/49 [==============================] - 9s 178ms/step - loss: 1.0652 - accuracy: 0.5981 - val_loss: 1.3142 - val_accuracy: 0.4545\n",
      "Epoch 49/100\n",
      "49/49 [==============================] - 9s 183ms/step - loss: 1.0605 - accuracy: 0.6000 - val_loss: 1.3133 - val_accuracy: 0.4527\n",
      "Epoch 50/100\n",
      "49/49 [==============================] - 9s 177ms/step - loss: 1.0559 - accuracy: 0.6022 - val_loss: 1.3123 - val_accuracy: 0.4509\n",
      "Epoch 51/100\n",
      "49/49 [==============================] - 9s 184ms/step - loss: 1.0513 - accuracy: 0.6058 - val_loss: 1.3114 - val_accuracy: 0.4491\n",
      "Epoch 52/100\n",
      "49/49 [==============================] - 9s 178ms/step - loss: 1.0468 - accuracy: 0.6087 - val_loss: 1.3106 - val_accuracy: 0.4509\n",
      "Epoch 53/100\n",
      "49/49 [==============================] - 9s 180ms/step - loss: 1.0424 - accuracy: 0.6106 - val_loss: 1.3097 - val_accuracy: 0.4509\n",
      "Epoch 54/100\n",
      "49/49 [==============================] - 9s 178ms/step - loss: 1.0381 - accuracy: 0.6131 - val_loss: 1.3089 - val_accuracy: 0.4509\n",
      "Epoch 55/100\n",
      "49/49 [==============================] - 9s 181ms/step - loss: 1.0338 - accuracy: 0.6151 - val_loss: 1.3082 - val_accuracy: 0.4509\n",
      "Epoch 56/100\n",
      "49/49 [==============================] - 9s 180ms/step - loss: 1.0296 - accuracy: 0.6160 - val_loss: 1.3074 - val_accuracy: 0.4527\n",
      "Epoch 57/100\n",
      "49/49 [==============================] - 9s 179ms/step - loss: 1.0254 - accuracy: 0.6196 - val_loss: 1.3067 - val_accuracy: 0.4527\n"
     ]
    },
    {
     "name": "stdout",
     "output_type": "stream",
     "text": [
      "Epoch 58/100\n",
      "49/49 [==============================] - 9s 182ms/step - loss: 1.0213 - accuracy: 0.6231 - val_loss: 1.3060 - val_accuracy: 0.4545\n",
      "Epoch 59/100\n",
      "49/49 [==============================] - 9s 182ms/step - loss: 1.0172 - accuracy: 0.6253 - val_loss: 1.3053 - val_accuracy: 0.4545\n",
      "Epoch 60/100\n",
      "49/49 [==============================] - 9s 179ms/step - loss: 1.0132 - accuracy: 0.6269 - val_loss: 1.3046 - val_accuracy: 0.4564\n",
      "Epoch 61/100\n",
      "49/49 [==============================] - 9s 184ms/step - loss: 1.0092 - accuracy: 0.6276 - val_loss: 1.3040 - val_accuracy: 0.4564\n",
      "Epoch 62/100\n",
      "49/49 [==============================] - 9s 181ms/step - loss: 1.0053 - accuracy: 0.6304 - val_loss: 1.3034 - val_accuracy: 0.4564\n",
      "Epoch 63/100\n",
      "49/49 [==============================] - 9s 180ms/step - loss: 1.0015 - accuracy: 0.6330 - val_loss: 1.3028 - val_accuracy: 0.4564\n",
      "Epoch 64/100\n",
      "49/49 [==============================] - 9s 187ms/step - loss: 0.9976 - accuracy: 0.6343 - val_loss: 1.3022 - val_accuracy: 0.4582\n",
      "Epoch 65/100\n",
      "49/49 [==============================] - 9s 188ms/step - loss: 0.9939 - accuracy: 0.6372 - val_loss: 1.3017 - val_accuracy: 0.4600\n",
      "Epoch 66/100\n",
      "49/49 [==============================] - 9s 187ms/step - loss: 0.9901 - accuracy: 0.6381 - val_loss: 1.3012 - val_accuracy: 0.4600\n",
      "Epoch 67/100\n",
      "49/49 [==============================] - 9s 190ms/step - loss: 0.9865 - accuracy: 0.6381 - val_loss: 1.3006 - val_accuracy: 0.4618\n",
      "Epoch 68/100\n",
      "49/49 [==============================] - 9s 182ms/step - loss: 0.9828 - accuracy: 0.6397 - val_loss: 1.3002 - val_accuracy: 0.4618\n",
      "Epoch 69/100\n",
      "49/49 [==============================] - 9s 184ms/step - loss: 0.9792 - accuracy: 0.6413 - val_loss: 1.2997 - val_accuracy: 0.4618\n",
      "Epoch 70/100\n",
      "49/49 [==============================] - 9s 186ms/step - loss: 0.9757 - accuracy: 0.6420 - val_loss: 1.2992 - val_accuracy: 0.4636\n",
      "Epoch 71/100\n",
      "49/49 [==============================] - 9s 189ms/step - loss: 0.9722 - accuracy: 0.6433 - val_loss: 1.2988 - val_accuracy: 0.4636\n",
      "Epoch 72/100\n",
      "49/49 [==============================] - 9s 185ms/step - loss: 0.9687 - accuracy: 0.6452 - val_loss: 1.2984 - val_accuracy: 0.4655\n",
      "Epoch 73/100\n",
      "49/49 [==============================] - 10s 195ms/step - loss: 0.9652 - accuracy: 0.6471 - val_loss: 1.2980 - val_accuracy: 0.4673\n",
      "Epoch 74/100\n",
      "49/49 [==============================] - 9s 185ms/step - loss: 0.9618 - accuracy: 0.6481 - val_loss: 1.2977 - val_accuracy: 0.4673\n",
      "Epoch 75/100\n",
      "49/49 [==============================] - 9s 187ms/step - loss: 0.9585 - accuracy: 0.6497 - val_loss: 1.2973 - val_accuracy: 0.4691\n",
      "Epoch 76/100\n",
      "49/49 [==============================] - 52s 1s/step - loss: 0.9551 - accuracy: 0.6522 - val_loss: 1.2970 - val_accuracy: 0.4691\n",
      "Epoch 77/100\n",
      "49/49 [==============================] - 75s 2s/step - loss: 0.9518 - accuracy: 0.6532 - val_loss: 1.2967 - val_accuracy: 0.4727\n",
      "Epoch 78/100\n",
      "49/49 [==============================] - 76s 2s/step - loss: 0.9486 - accuracy: 0.6535 - val_loss: 1.2964 - val_accuracy: 0.4727\n",
      "Epoch 79/100\n",
      "49/49 [==============================] - 75s 2s/step - loss: 0.9453 - accuracy: 0.6554 - val_loss: 1.2962 - val_accuracy: 0.4745\n",
      "Epoch 80/100\n",
      "49/49 [==============================] - 76s 2s/step - loss: 0.9421 - accuracy: 0.6580 - val_loss: 1.2959 - val_accuracy: 0.4764\n",
      "Epoch 81/100\n",
      "49/49 [==============================] - 75s 2s/step - loss: 0.9390 - accuracy: 0.6603 - val_loss: 1.2957 - val_accuracy: 0.4764\n",
      "Epoch 82/100\n",
      "49/49 [==============================] - 75s 2s/step - loss: 0.9359 - accuracy: 0.6606 - val_loss: 1.2956 - val_accuracy: 0.4764\n",
      "Epoch 83/100\n",
      "49/49 [==============================] - 76s 2s/step - loss: 0.9328 - accuracy: 0.6619 - val_loss: 1.2954 - val_accuracy: 0.4782\n",
      "Epoch 84/100\n",
      "49/49 [==============================] - 76s 2s/step - loss: 0.9297 - accuracy: 0.6635 - val_loss: 1.2953 - val_accuracy: 0.4764\n",
      "Epoch 85/100\n",
      "49/49 [==============================] - 76s 2s/step - loss: 0.9266 - accuracy: 0.6654 - val_loss: 1.2952 - val_accuracy: 0.4764\n",
      "Epoch 86/100\n",
      "49/49 [==============================] - 76s 2s/step - loss: 0.9236 - accuracy: 0.6679 - val_loss: 1.2951 - val_accuracy: 0.4764\n",
      "Epoch 87/100\n",
      "49/49 [==============================] - 75s 2s/step - loss: 0.9207 - accuracy: 0.6683 - val_loss: 1.2950 - val_accuracy: 0.4764\n",
      "Epoch 88/100\n",
      "49/49 [==============================] - 76s 2s/step - loss: 0.9177 - accuracy: 0.6689 - val_loss: 1.2950 - val_accuracy: 0.4764\n",
      "Epoch 89/100\n",
      "49/49 [==============================] - 75s 2s/step - loss: 0.9148 - accuracy: 0.6712 - val_loss: 1.2950 - val_accuracy: 0.4764\n",
      "Epoch 90/100\n",
      "49/49 [==============================] - 75s 2s/step - loss: 0.9119 - accuracy: 0.6721 - val_loss: 1.2950 - val_accuracy: 0.4745\n",
      "Epoch 91/100\n",
      "49/49 [==============================] - 75s 2s/step - loss: 0.9090 - accuracy: 0.6721 - val_loss: 1.2950 - val_accuracy: 0.4745\n",
      "Epoch 92/100\n",
      "49/49 [==============================] - 75s 2s/step - loss: 0.9062 - accuracy: 0.6760 - val_loss: 1.2951 - val_accuracy: 0.4727\n",
      "Epoch 93/100\n",
      "49/49 [==============================] - 75s 2s/step - loss: 0.9034 - accuracy: 0.6769 - val_loss: 1.2952 - val_accuracy: 0.4745\n",
      "Epoch 94/100\n",
      "49/49 [==============================] - ETA: 0s - loss: 0.9006 - accuracy: 0.6776Restoring model weights from the end of the best epoch: 89.\n",
      "49/49 [==============================] - 76s 2s/step - loss: 0.9006 - accuracy: 0.6776 - val_loss: 1.2953 - val_accuracy: 0.4764\n",
      "Epoch 00094: early stopping\n"
     ]
    },
    {
     "data": {
      "image/png": "[encoded data removed]",
      "text/plain": [
       "<Figure size 432x288 with 1 Axes>"
      ]
     },
     "metadata": {
      "needs_background": "light"
     },
     "output_type": "display_data"
    }
   ],
   "source": [
    "# Get linear model and compile\n",
    "tf.keras.backend.clear_session()\n",
    "model = get_linear_classifier(rn50)\n",
    "model.compile(loss=\"sparse_categorical_crossentropy\", metrics=[\"accuracy\"],\n",
    "                     optimizer=\"adam\")\n",
    "\n",
    "# Train \n",
    "history = model.fit(training_ds,\n",
    "                 validation_data=validation_ds,\n",
    "                 epochs=100,\n",
    "                 callbacks=[early_stopper])\n",
    "plot_progress(history)"
   ]
  },
  {
   "cell_type": "code",
   "execution_count": 15,
   "metadata": {
    "colab": {
     "base_uri": "https://localhost:8080/"
    },
    "id": "NctQf484t4GR",
    "outputId": "d1449782-c614-41ff-b5a5-6448978db53f"
   },
   "outputs": [
    {
     "name": "stdout",
     "output_type": "stream",
     "text": [
      "9/9 [==============================] - 12s 1s/step - loss: 1.2950 - accuracy: 0.4764\n",
      "Validation accuracy: 47.64\n"
     ]
    }
   ],
   "source": [
    "_, acc = model.evaluate(validation_ds)\n",
    "print('Validation accuracy:', round(acc*100, 2))"
   ]
  },
  {
   "cell_type": "markdown",
   "metadata": {
    "id": "ykzPyP-uyJRu"
   },
   "source": [
    "For a minimal implementation the scores aren't that bad. "
   ]
  }
 ],
 "metadata": {
  "accelerator": "GPU",
  "colab": {
   "authorship_tag": "ABX9TyMAleSaBYAAgM4+rTN5xy7y",
   "collapsed_sections": [],
   "include_colab_link": true,
   "name": "SimSiam_Evaluation.ipynb",
   "provenance": []
  },
  "kernelspec": {
   "display_name": "Python 3 (ipykernel)",
   "language": "python",
   "name": "python3"
  },
  "language_info": {
   "codemirror_mode": {
    "name": "ipython",
    "version": 3
   },
   "file_extension": ".py",
   "mimetype": "text/x-python",
   "name": "python",
   "nbconvert_exporter": "python",
   "pygments_lexer": "ipython3",
   "version": "3.8.12"
  }
 },
 "nbformat": 4,
 "nbformat_minor": 1
}
