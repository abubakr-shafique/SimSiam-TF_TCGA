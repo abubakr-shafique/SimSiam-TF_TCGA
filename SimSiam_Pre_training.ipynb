{
 "cells": [
  {
   "cell_type": "markdown",
   "metadata": {
    "colab_type": "text",
    "id": "view-in-github"
   },
   "source": [
    "<a href=\"https://colab.research.google.com/github/sayakpaul/SimSiam-TF/blob/main/SimSiam_Pre_training.ipynb\" target=\"_parent\"><img src=\"https://colab.research.google.com/assets/colab-badge.svg\" alt=\"Open In Colab\"/></a>"
   ]
  },
  {
   "cell_type": "markdown",
   "metadata": {
    "id": "Y3OQSgi4A8qI"
   },
   "source": [
    "A minimal implementation of **SimSiam** as proposed in [Exploring Simple Siamese Representation Learning](https://arxiv.org/pdf/2011.10566.pdf) by Xinlei Chen and Kaiming He. The objective of this notebook is to demonstrate the workflow of SimSiam and NOT to implement it note to note and at the same time I will try not to miss out on the major bits discussed in the paper. For that matter, I'll be using the Flowers dataset. \n",
    "\n",
    "Following depicts the workflow of SimSiam - \n",
    "\n",
    "<center>\n",
    "<img src=\"https://i.ibb.co/37pNQTP/image.png\" width=550></img>\n",
    "</center>"
   ]
  },
  {
   "cell_type": "code",
   "execution_count": 1,
   "metadata": {
    "colab": {
     "base_uri": "https://localhost:8080/"
    },
    "id": "KqSmdKq1DXdw",
    "outputId": "ce07b623-0cb2-4d5d-ee7d-997325cc1f4a"
   },
   "outputs": [],
   "source": [
    "#!pip install -U -q tensorflow-addons"
   ]
  },
  {
   "cell_type": "code",
   "execution_count": 1,
   "metadata": {
    "id": "__OnMx5CA4OB"
   },
   "outputs": [
    {
     "name": "stdout",
     "output_type": "stream",
     "text": [
      "2.3.1\n"
     ]
    }
   ],
   "source": [
    "import tensorflow as tf\n",
    "print(tf.__version__)"
   ]
  },
  {
   "cell_type": "code",
   "execution_count": 3,
   "metadata": {
    "id": "HcAlVdqoB1Ik"
   },
   "outputs": [],
   "source": [
    "#import tensorflow_datasets as tfds\n",
    "import tensorflow_addons as tfa\n",
    "\n",
    "import matplotlib.pyplot as plt\n",
    "import numpy as np\n",
    "import random\n",
    "import time\n",
    "import os\n",
    "from skimage import io\n",
    "from skimage.transform import resize\n",
    "\n",
    "from tqdm import tqdm\n",
    "\n",
    "#tf.random.set_seed(666)\n",
    "#np.random.seed(666)\n",
    "\n",
    "#tfds.disable_progress_bar()"
   ]
  },
  {
   "cell_type": "code",
   "execution_count": 4,
   "metadata": {
    "colab": {
     "base_uri": "https://localhost:8080/"
    },
    "id": "fWNjwy4aB0S4",
    "outputId": "342595e2-a41e-4eb7-950b-5bbcf20aa16b"
   },
   "outputs": [
    {
     "name": "stderr",
     "output_type": "stream",
     "text": [
      "'nvidia-smi' is not recognized as an internal or external command,\n",
      "operable program or batch file.\n"
     ]
    }
   ],
   "source": [
    "!nvidia-smi"
   ]
  },
  {
   "cell_type": "code",
   "execution_count": 26,
   "metadata": {
    "colab": {
     "base_uri": "https://localhost:8080/"
    },
    "id": "yxDHbKMxCgq5",
    "outputId": "ade152a1-544e-4093-9ba3-2866a2cffa7e"
   },
   "outputs": [],
   "source": [
    "## Gather Flowers dataset\n",
    "#train_ds, validation_ds = tfds.load(\n",
    "#    \"tf_flowers\",\n",
    "#    split=[\"train[:85%]\", \"train[85%:]\"]\n",
    "#)"
   ]
  },
  {
   "cell_type": "code",
   "execution_count": 4,
   "metadata": {},
   "outputs": [
    {
     "name": "stdout",
     "output_type": "stream",
     "text": [
      "Found 5247 files belonging to 4 classes.\n",
      "Found 5247 files belonging to 4 classes.\n"
     ]
    }
   ],
   "source": [
    "dataset_one = tf.keras.preprocessing.image_dataset_from_directory(\n",
    "    'TCGA_Data/train1/',\n",
    "    labels = 'inferred',\n",
    "    label_mode = 'categorical',\n",
    "    color_mode = 'rgb',\n",
    "    batch_size = 16,\n",
    "    image_size = (224, 224),\n",
    ")\n",
    "\n",
    "dataset_two = tf.keras.preprocessing.image_dataset_from_directory(\n",
    "    'TCGA_Data/train2/',\n",
    "    labels = 'inferred',\n",
    "    label_mode = 'categorical',\n",
    "    color_mode = 'rgb',\n",
    "    batch_size = 16,\n",
    "    image_size = (224, 224),\n",
    ")"
   ]
  },
  {
   "cell_type": "markdown",
   "metadata": {
    "id": "YnhfS83AC6g8"
   },
   "source": [
    "Note the augmentation pipeline is a bit different from the augmentations followed in the paper. "
   ]
  },
  {
   "cell_type": "markdown",
   "metadata": {
    "id": "WM69XILOTRJ9"
   },
   "source": [
    "The network architectures are based on the **Method (Baseline settings)** section of the paper. "
   ]
  },
  {
   "cell_type": "markdown",
   "metadata": {
    "id": "OPoeLlhwFyTh"
   },
   "source": [
    "## Encoder ($f$)\n",
    "\n",
    "This includes ResNet50 as a backbone and another MLP for projection. Note that I have reduced the architectures here leaving ResNet50 backbone intact. "
   ]
  },
  {
   "cell_type": "code",
   "execution_count": 6,
   "metadata": {
    "id": "EUx5xZxKFJ-a"
   },
   "outputs": [],
   "source": [
    "def get_encoder():\n",
    "    base_model = tf.keras.applications.ResNet50(include_top=False,\n",
    "        weights=None, input_shape=(224, 224, 3))\n",
    "    base_model.trainable = True\n",
    "\n",
    "    inputs = tf.keras.layers.Input((224, 224, 3))\n",
    "    x = base_model(inputs, training=True)\n",
    "    x = tf.keras.layers.GlobalAveragePooling2D()(x)\n",
    "    x = tf.keras.layers.Dense(2048, activation='relu', use_bias=False)(x)\n",
    "    x = tf.keras.layers.BatchNormalization()(x)\n",
    "    z = tf.keras.layers.Dense(2048)(x)\n",
    "\n",
    "    f = tf.keras.Model(inputs, z)\n",
    "\n",
    "    return f"
   ]
  },
  {
   "cell_type": "markdown",
   "metadata": {
    "id": "WRvzAOIBSjoG"
   },
   "source": [
    "## Predictor ($h$)\n",
    "\n",
    "This includes an MLP. "
   ]
  },
  {
   "cell_type": "code",
   "execution_count": 7,
   "metadata": {
    "id": "qtcNe7znSjCH"
   },
   "outputs": [],
   "source": [
    "def get_predictor():\n",
    "    inputs = tf.keras.layers.Input((2048, ))\n",
    "    x = tf.keras.layers.Dense(512, activation='relu', use_bias=False)(inputs)\n",
    "    x = tf.keras.layers.BatchNormalization()(x)\n",
    "    p = tf.keras.layers.Dense(2048)(x)\n",
    "\n",
    "    h = tf.keras.Model(inputs, p)\n",
    "\n",
    "    return h"
   ]
  },
  {
   "cell_type": "code",
   "execution_count": 8,
   "metadata": {
    "colab": {
     "base_uri": "https://localhost:8080/"
    },
    "id": "4n5xwsFWJl7e",
    "outputId": "16328095-ca65-49c4-b1b1-c490181bea36"
   },
   "outputs": [
    {
     "name": "stdout",
     "output_type": "stream",
     "text": [
      "Model: \"functional_1\"\n",
      "_________________________________________________________________\n",
      "Layer (type)                 Output Shape              Param #   \n",
      "=================================================================\n",
      "input_2 (InputLayer)         [(None, 224, 224, 3)]     0         \n",
      "_________________________________________________________________\n",
      "resnet50 (Functional)        (None, 7, 7, 2048)        23587712  \n",
      "_________________________________________________________________\n",
      "global_average_pooling2d (Gl (None, 2048)              0         \n",
      "_________________________________________________________________\n",
      "dense (Dense)                (None, 2048)              4194304   \n",
      "_________________________________________________________________\n",
      "batch_normalization (BatchNo (None, 2048)              8192      \n",
      "_________________________________________________________________\n",
      "dense_1 (Dense)              (None, 2048)              4196352   \n",
      "=================================================================\n",
      "Total params: 31,986,560\n",
      "Trainable params: 31,929,344\n",
      "Non-trainable params: 57,216\n",
      "_________________________________________________________________\n"
     ]
    }
   ],
   "source": [
    "get_encoder().summary()"
   ]
  },
  {
   "cell_type": "code",
   "execution_count": 9,
   "metadata": {
    "colab": {
     "base_uri": "https://localhost:8080/"
    },
    "id": "w2mcoe9JJror",
    "outputId": "1a3ec7a6-88df-4d18-8f96-d628695f53e4"
   },
   "outputs": [
    {
     "name": "stdout",
     "output_type": "stream",
     "text": [
      "Model: \"functional_3\"\n",
      "_________________________________________________________________\n",
      "Layer (type)                 Output Shape              Param #   \n",
      "=================================================================\n",
      "input_3 (InputLayer)         [(None, 2048)]            0         \n",
      "_________________________________________________________________\n",
      "dense_2 (Dense)              (None, 512)               1048576   \n",
      "_________________________________________________________________\n",
      "batch_normalization_1 (Batch (None, 512)               2048      \n",
      "_________________________________________________________________\n",
      "dense_3 (Dense)              (None, 2048)              1050624   \n",
      "=================================================================\n",
      "Total params: 2,101,248\n",
      "Trainable params: 2,100,224\n",
      "Non-trainable params: 1,024\n",
      "_________________________________________________________________\n"
     ]
    }
   ],
   "source": [
    "get_predictor().summary()"
   ]
  },
  {
   "cell_type": "markdown",
   "metadata": {
    "id": "P7gjLDPmKPNn"
   },
   "source": [
    "The authors have also provided PyTorch-like psuedocode in the paper (how cool!) - \n",
    "\n",
    "```python\n",
    "# f: backbone + projection mlp\n",
    "# h: prediction mlp\n",
    "for x in loader: # load a minibatch x with n samples\n",
    "    x1, x2 = aug(x), aug(x) # random augmentation\n",
    "    z1, z2 = f(x1), f(x2) # projections, n-by-d\n",
    "    p1, p2 = h(z1), h(z2) # predictions, n-by-d\n",
    "    L = D(p1, z2)/2 + D(p2, z1)/2 # loss\n",
    "    L.backward() # back-propagate\n",
    "    update(f, h) # SGD update\n",
    "\n",
    "def D(p, z): # negative cosine similarity\n",
    "    z = z.detach() # stop gradient\n",
    "    p = normalize(p, dim=1) # l2-normalize\n",
    "    z = normalize(z, dim=1) # l2-normalize\n",
    "    return -(p*z).sum(dim=1).mean()\n",
    "```"
   ]
  },
  {
   "cell_type": "code",
   "execution_count": 10,
   "metadata": {
    "id": "mU8zs96EJ3Bc"
   },
   "outputs": [],
   "source": [
    "def loss_func(p, z):\n",
    "    z = tf.stop_gradient(z)\n",
    "    p = tf.math.l2_normalize(p, axis=1)\n",
    "    z = tf.math.l2_normalize(z, axis=1)\n",
    "    return - tf.reduce_mean(tf.reduce_sum((p*z), axis=1))"
   ]
  },
  {
   "cell_type": "code",
   "execution_count": 11,
   "metadata": {
    "id": "P4-yuvuZMT0n"
   },
   "outputs": [],
   "source": [
    "@tf.function\n",
    "def train_step(ds_one, ds_two, f, h, optimizer):\n",
    "    with tf.GradientTape() as tape:\n",
    "        z1, z2 = f(ds_one), f(ds_two)\n",
    "        p1, p2 = h(z1), h(z2)\n",
    "        loss = loss_func(p1, z2)/2 + loss_func(p2, z1)/2\n",
    "    \n",
    "    learnable_params = f.trainable_variables + h.trainable_variables\n",
    "    gradients = tape.gradient(loss, learnable_params)\n",
    "    optimizer.apply_gradients(zip(gradients, learnable_params))\n",
    "\n",
    "    return loss"
   ]
  },
  {
   "cell_type": "code",
   "execution_count": 12,
   "metadata": {
    "id": "3jIbS4R4O8kY"
   },
   "outputs": [],
   "source": [
    "def train_simsiam(f, h, dataset_one, dataset_two, optimizer, epochs=100):\n",
    "    step_wise_loss = []\n",
    "    epoch_wise_loss = []\n",
    "\n",
    "    for epoch in tqdm(range(epochs)):\n",
    "        for ds_one, ds_two in zip(dataset_one, dataset_two):\n",
    "            loss = train_step(ds_one, ds_two, f, h, optimizer)\n",
    "            step_wise_loss.append(loss)\n",
    "\n",
    "        epoch_wise_loss.append(np.mean(step_wise_loss))\n",
    "\n",
    "        if epoch % 10 == 0:\n",
    "            print(\"epoch: {} loss: {:.3f}\".format(epoch + 1, np.mean(step_wise_loss)))\n",
    "\n",
    "    return epoch_wise_loss, f, h"
   ]
  },
  {
   "cell_type": "code",
   "execution_count": 13,
   "metadata": {
    "colab": {
     "base_uri": "https://localhost:8080/"
    },
    "id": "ys3VkUqVP_3r",
    "outputId": "b6393ae7-09d5-4872-ed1e-53721353ab8f"
   },
   "outputs": [
    {
     "name": "stderr",
     "output_type": "stream",
     "text": [
      "  2%|█▌                                                                              | 1/50 [02:08<1:45:15, 128.89s/it]"
     ]
    },
    {
     "name": "stdout",
     "output_type": "stream",
     "text": [
      "epoch: 1 loss: -0.879\n"
     ]
    },
    {
     "name": "stderr",
     "output_type": "stream",
     "text": [
      " 22%|█████████████████▌                                                              | 11/50 [18:32<1:04:05, 98.61s/it]"
     ]
    },
    {
     "name": "stdout",
     "output_type": "stream",
     "text": [
      "epoch: 11 loss: -0.977\n"
     ]
    },
    {
     "name": "stderr",
     "output_type": "stream",
     "text": [
      " 42%|██████████████████████████████████▍                                               | 21/50 [34:57<47:35, 98.47s/it]"
     ]
    },
    {
     "name": "stdout",
     "output_type": "stream",
     "text": [
      "epoch: 21 loss: -0.982\n"
     ]
    },
    {
     "name": "stderr",
     "output_type": "stream",
     "text": [
      " 62%|██████████████████████████████████████████████████▊                               | 31/50 [51:22<31:13, 98.59s/it]"
     ]
    },
    {
     "name": "stdout",
     "output_type": "stream",
     "text": [
      "epoch: 31 loss: -0.983\n"
     ]
    },
    {
     "name": "stderr",
     "output_type": "stream",
     "text": [
      " 82%|█████████████████████████████████████████████████████████████████▌              | 41/50 [1:07:49<14:47, 98.61s/it]"
     ]
    },
    {
     "name": "stdout",
     "output_type": "stream",
     "text": [
      "epoch: 41 loss: -0.984\n"
     ]
    },
    {
     "name": "stderr",
     "output_type": "stream",
     "text": [
      "100%|████████████████████████████████████████████████████████████████████████████████| 50/50 [1:22:37<00:00, 99.14s/it]\n"
     ]
    }
   ],
   "source": [
    "decay_steps = 500\n",
    "lr_decayed_fn = tf.keras.experimental.CosineDecay(\n",
    "    initial_learning_rate=0.01, decay_steps=decay_steps)\n",
    "optimizer = tf.keras.optimizers.SGD(lr_decayed_fn, momentum=0.6)\n",
    "\n",
    "f = get_encoder()\n",
    "h = get_predictor()\n",
    "\n",
    "epoch_wise_loss, f, h  = train_simsiam(f, h, dataset_one, dataset_two, optimizer, epochs=50)"
   ]
  },
  {
   "cell_type": "code",
   "execution_count": 14,
   "metadata": {
    "id": "kiJx3y5EQ57_"
   },
   "outputs": [
    {
     "data": {
      "image/png": "[encoded data removed]",
      "text/plain": [
       "<Figure size 432x288 with 1 Axes>"
      ]
     },
     "metadata": {
      "needs_background": "light"
     },
     "output_type": "display_data"
    }
   ],
   "source": [
    "plt.plot(epoch_wise_loss)\n",
    "plt.grid()\n",
    "plt.show()"
   ]
  },
  {
   "cell_type": "code",
   "execution_count": 15,
   "metadata": {},
   "outputs": [],
   "source": [
    "f.save_weights(\"projection_TCGA.h5\")\n",
    "h.save_weights(\"prediction_TCGA.h5\")"
   ]
  },
  {
   "cell_type": "code",
   "execution_count": null,
   "metadata": {},
   "outputs": [],
   "source": []
  }
 ],
 "metadata": {
  "accelerator": "GPU",
  "colab": {
   "authorship_tag": "ABX9TyNhEd2EnuPKQjsGMvm+zE3l",
   "collapsed_sections": [],
   "include_colab_link": true,
   "name": "SimSiam_Pre-training.ipynb",
   "provenance": []
  },
  "environment": {
   "name": "tf2-2-2-gpu.2-2.m50",
   "type": "gcloud",
   "uri": "gcr.io/deeplearning-platform-release/tf2-2-2-gpu.2-2:m50"
  },
  "kernelspec": {
   "display_name": "Python 3 (ipykernel)",
   "language": "python",
   "name": "python3"
  },
  "language_info": {
   "codemirror_mode": {
    "name": "ipython",
    "version": 3
   },
   "file_extension": ".py",
   "mimetype": "text/x-python",
   "name": "python",
   "nbconvert_exporter": "python",
   "pygments_lexer": "ipython3",
   "version": "3.8.12"
  }
 },
 "nbformat": 4,
 "nbformat_minor": 4
}
